{
 "cells": [
  {
   "cell_type": "code",
   "execution_count": 11,
   "id": "a214c1a0",
   "metadata": {},
   "outputs": [],
   "source": [
    "import pandas as pd\n",
    "import whisper\n",
    "\n",
    "from langchain.tools import tool\n",
    "from pytube import YouTube\n",
    "\n",
    "from langchain.text_splitter import RecursiveCharacterTextSplitter\n",
    "from langchain.embeddings import SentenceTransformerEmbeddings\n",
    "from langchain.vectorstores import chroma\n",
    "from langchain.schema.runnable import RunnableLambda\n",
    "\n",
    "from langchain.chains import RetrievalQA"
   ]
  },
  {
   "cell_type": "code",
   "execution_count": 9,
   "id": "a1a62d1c",
   "metadata": {},
   "outputs": [],
   "source": [
    "@tool\n",
    "def download_transcribe(video_url:str):\n",
    "    \"\"\"This extracts the text from the given video URL\"\"\"\n",
    "    yt = YouTube(video_url)\n",
    "    audio = yt.streams.load(only_audio = True).order_by('abt').desc().first()\n",
    "    audio_path = audio.download(\"audio.mp4\")\n",
    "    \n",
    "    model = whisper.load_model(\"base\")\n",
    "    result = model.transcribe(audio_path)\n",
    "    return result['text']"
   ]
  },
  {
   "cell_type": "code",
   "execution_count": 12,
   "id": "fafa2b96",
   "metadata": {},
   "outputs": [],
   "source": [
    "def embed_store(text:str):\n",
    "    splitter = RecursiveCharacterTextSplitter(chunk_size = 500, chunk_overlap = 30)\n",
    "    chunks = splitter.split_text(text)\n",
    "    \n",
    "    embed_model = SentenceTransformerEmbeddings(model_name=\"all-MiniLM-L6-v2\")\n",
    "    db = chroma.from_texts(chunks,embed_model,collection_name ='yt_chunks')\n",
    "    \n",
    "    return db\n",
    "\n",
    "runnable = RunnableLambda(embed_store)"
   ]
  },
  {
   "cell_type": "code",
   "execution_count": 14,
   "id": "dd5c83ec",
   "metadata": {},
   "outputs": [],
   "source": [
    "from langchain_mistralai.chat_models import ChatMistralAI\n",
    "import os\n",
    "os.environ[\"MISTRAL_API_KEY\"] = \"veMgdofLWqX4XlTw3tFduXu4kTTkGwEK\"\n",
    "llm = ChatMistralAI(model=\"mistral-small\")"
   ]
  },
  {
   "cell_type": "code",
   "execution_count": 15,
   "id": "117bf8f0",
   "metadata": {},
   "outputs": [],
   "source": [
    "def run_query(query: str, db):\n",
    "    retriever = db.as_retriever(search_type=\"similarity\", k=5)    \n",
    "    chain = RetrievalQA(retriever=retriever, llm=llm)\n",
    "    return chain.run(query)\n"
   ]
  },
  {
   "cell_type": "code",
   "execution_count": 16,
   "id": "bb4608d1",
   "metadata": {},
   "outputs": [
    {
     "name": "stderr",
     "output_type": "stream",
     "text": [
      "2025-08-04 20:57:52.082 \n",
      "  \u001b[33m\u001b[1mWarning:\u001b[0m to view this Streamlit app on a browser, run it with the following\n",
      "  command:\n",
      "\n",
      "    streamlit run C:\\Users\\JothiRama\\AppData\\Local\\Programs\\Python\\Python310\\lib\\site-packages\\ipykernel_launcher.py [ARGUMENTS]\n"
     ]
    }
   ],
   "source": [
    "import streamlit as st\n",
    "\n",
    "st.title(\"YouTube RAG Explorer\")\n",
    "\n",
    "video_url = st.text_input(\"Enter YouTube URL\")\n",
    "query = st.text_input(\"Ask a question\")\n",
    "\n",
    "if st.button(\"Process & Query\"):\n",
    "    transcript = download_and_transcribe(video_url)\n",
    "    db = embed_and_store(transcript)\n",
    "    response = run_query(query, db)\n",
    "    st.markdown(\"### Answer\")\n",
    "    st.write(response)"
   ]
  },
  {
   "cell_type": "code",
   "execution_count": null,
   "id": "d9e29ae1",
   "metadata": {},
   "outputs": [],
   "source": []
  }
 ],
 "metadata": {
  "kernelspec": {
   "display_name": "Python 3 (ipykernel)",
   "language": "python",
   "name": "python3"
  },
  "language_info": {
   "codemirror_mode": {
    "name": "ipython",
    "version": 3
   },
   "file_extension": ".py",
   "mimetype": "text/x-python",
   "name": "python",
   "nbconvert_exporter": "python",
   "pygments_lexer": "ipython3",
   "version": "3.10.5"
  }
 },
 "nbformat": 4,
 "nbformat_minor": 5
}
